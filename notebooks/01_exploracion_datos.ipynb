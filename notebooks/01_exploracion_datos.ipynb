{
 "cells": [
  {
   "cell_type": "markdown",
   "metadata": {},
   "source": [
    "# 📊 Exploración de Datos - Análisis de Sentimientos\n",
    "\n",
    "Este notebook realiza la exploración inicial del dataset de sentiment analysis.\n",
    "\n",
    "## Objetivos:\n",
    "- Cargar y explorar el dataset\n",
    "- Analizar la distribución de sentimientos\n",
    "- Identificar características del texto\n",
    "- Detectar posibles problemas en los datos"
   ]
  },
  {
   "cell_type": "code",
   "execution_count": null,
   "metadata": {},
   "outputs": [
    {
     "name": "stdout",
     "output_type": "stream",
     "text": [
      "✅ Librerías importadas correctamente\n"
     ]
    }
   ],
   "source": [
    "# Importar librerías necesarias\n",
    "import pandas as pd\n",
    "import numpy as np\n",
    "import matplotlib.pyplot as plt\n",
    "import seaborn as sns\n",
    "import warnings\n",
    "warnings.filterwarnings('ignore')\n",
    "\n",
    "# Configurar visualizaciones\n",
    "plt.style.use('seaborn-v0_8')\n",
    "sns.set_palette('husl')\n",
    "\n",
    "print(\"✅ Librerías importadas correctamente\")"
   ]
  },
  {
   "cell_type": "markdown",
   "metadata": {},
   "source": [
    "## 1. Descarga del Dataset\n",
    "\n",
    "Primero descargamos el dataset Sentiment140 desde Kaggle o usamos un dataset alternativo."
   ]
  },
  {
   "cell_type": "code",
   "execution_count": null,
   "metadata": {},
   "outputs": [
    {
     "name": "stdout",
     "output_type": "stream",
     "text": [
      "⚠️  Usando dataset sintético para pruebas\n",
      "💡 Para usar datos reales, descarga el dataset y colócalo en ../data/\n",
      "📊 Dataset cargado: 1000 filas, 2 columnas\n"
     ]
    }
   ],
   "source": [
    "# Función para descargar dataset de ejemplo\n",
    "import requests\n",
    "import io\n",
    "\n",
    "def download_sample_dataset():\n",
    "    \"\"\"\n",
    "    Descarga un dataset de ejemplo o crea uno sintético para pruebas\n",
    "    \"\"\"\n",
    "    # Si no tienes el dataset real, podemos crear uno sintético\n",
    "    # para probar el código\n",
    "    \n",
    "    sample_data = {\n",
    "        'sentiment': [0, 4, 0, 4, 0, 4, 2, 0, 4, 2] * 100,  # 0=neg, 2=neutral, 4=pos\n",
    "        'text': [\n",
    "            'I hate this movie, it was terrible',\n",
    "            'Amazing film! Loved every minute of it',\n",
    "            'Worst experience ever, very disappointed',\n",
    "            'Fantastic! Best movie I have seen this year',\n",
    "            'This is bad, would not recommend',\n",
    "            'Excellent quality, highly recommend',\n",
    "            'It was okay, nothing special',\n",
    "            'Boring and predictable plot',\n",
    "            'Outstanding performance by all actors',\n",
    "            'Average movie, not bad not good'\n",
    "        ] * 100\n",
    "    }\n",
    "    \n",
    "    return pd.DataFrame(sample_data)\n",
    "\n",
    "# Cargar dataset\n",
    "try:\n",
    "    # Intentar cargar dataset real\n",
    "    df = pd.read_csv('../data/sentiment140.csv', \n",
    "                     names=['sentiment', 'id', 'date', 'query', 'user', 'text'],\n",
    "                     encoding='latin-1')\n",
    "    print(\"✅ Dataset real cargado\")\n",
    "except:\n",
    "    # Usar dataset sintético para pruebas\n",
    "    df = download_sample_dataset()\n",
    "    print(\"⚠️  Usando dataset sintético para pruebas\")\n",
    "    print(\"💡 Para usar datos reales, descarga el dataset y colócalo en ../data/\")\n",
    "\n",
    "print(f\"📊 Dataset cargado: {df.shape[0]} filas, {df.shape[1]} columnas\")"
   ]
  },
  {
   "cell_type": "markdown",
   "metadata": {},
   "source": [
    "## 2. Exploración Inicial"
   ]
  },
  {
   "cell_type": "code",
   "execution_count": null,
   "metadata": {},
   "outputs": [
    {
     "name": "stdout",
     "output_type": "stream",
     "text": [
      "=== INFORMACIÓN BÁSICA ===\n",
      "Forma del dataset: (1000, 2)\n",
      "Columnas: ['sentiment', 'text']\n",
      "\n",
      "=== PRIMERAS FILAS ===\n"
     ]
    },
    {
     "data": {
      "text/html": [
       "<div>\n",
       "<style scoped>\n",
       "    .dataframe tbody tr th:only-of-type {\n",
       "        vertical-align: middle;\n",
       "    }\n",
       "\n",
       "    .dataframe tbody tr th {\n",
       "        vertical-align: top;\n",
       "    }\n",
       "\n",
       "    .dataframe thead th {\n",
       "        text-align: right;\n",
       "    }\n",
       "</style>\n",
       "<table border=\"1\" class=\"dataframe\">\n",
       "  <thead>\n",
       "    <tr style=\"text-align: right;\">\n",
       "      <th></th>\n",
       "      <th>sentiment</th>\n",
       "      <th>text</th>\n",
       "    </tr>\n",
       "  </thead>\n",
       "  <tbody>\n",
       "    <tr>\n",
       "      <th>0</th>\n",
       "      <td>0</td>\n",
       "      <td>I hate this movie, it was terrible</td>\n",
       "    </tr>\n",
       "    <tr>\n",
       "      <th>1</th>\n",
       "      <td>4</td>\n",
       "      <td>Amazing film! Loved every minute of it</td>\n",
       "    </tr>\n",
       "    <tr>\n",
       "      <th>2</th>\n",
       "      <td>0</td>\n",
       "      <td>Worst experience ever, very disappointed</td>\n",
       "    </tr>\n",
       "    <tr>\n",
       "      <th>3</th>\n",
       "      <td>4</td>\n",
       "      <td>Fantastic! Best movie I have seen this year</td>\n",
       "    </tr>\n",
       "    <tr>\n",
       "      <th>4</th>\n",
       "      <td>0</td>\n",
       "      <td>This is bad, would not recommend</td>\n",
       "    </tr>\n",
       "    <tr>\n",
       "      <th>5</th>\n",
       "      <td>4</td>\n",
       "      <td>Excellent quality, highly recommend</td>\n",
       "    </tr>\n",
       "    <tr>\n",
       "      <th>6</th>\n",
       "      <td>2</td>\n",
       "      <td>It was okay, nothing special</td>\n",
       "    </tr>\n",
       "    <tr>\n",
       "      <th>7</th>\n",
       "      <td>0</td>\n",
       "      <td>Boring and predictable plot</td>\n",
       "    </tr>\n",
       "    <tr>\n",
       "      <th>8</th>\n",
       "      <td>4</td>\n",
       "      <td>Outstanding performance by all actors</td>\n",
       "    </tr>\n",
       "    <tr>\n",
       "      <th>9</th>\n",
       "      <td>2</td>\n",
       "      <td>Average movie, not bad not good</td>\n",
       "    </tr>\n",
       "  </tbody>\n",
       "</table>\n",
       "</div>"
      ],
      "text/plain": [
       "   sentiment                                         text\n",
       "0          0           I hate this movie, it was terrible\n",
       "1          4       Amazing film! Loved every minute of it\n",
       "2          0     Worst experience ever, very disappointed\n",
       "3          4  Fantastic! Best movie I have seen this year\n",
       "4          0             This is bad, would not recommend\n",
       "5          4          Excellent quality, highly recommend\n",
       "6          2                 It was okay, nothing special\n",
       "7          0                  Boring and predictable plot\n",
       "8          4        Outstanding performance by all actors\n",
       "9          2              Average movie, not bad not good"
      ]
     },
     "metadata": {},
     "output_type": "display_data"
    },
    {
     "name": "stdout",
     "output_type": "stream",
     "text": [
      "\n",
      "=== INFORMACIÓN DETALLADA ===\n",
      "<class 'pandas.core.frame.DataFrame'>\n",
      "RangeIndex: 1000 entries, 0 to 999\n",
      "Data columns (total 2 columns):\n",
      " #   Column     Non-Null Count  Dtype \n",
      "---  ------     --------------  ----- \n",
      " 0   sentiment  1000 non-null   int64 \n",
      " 1   text       1000 non-null   object\n",
      "dtypes: int64(1), object(1)\n",
      "memory usage: 15.8+ KB\n",
      "None\n",
      "\n",
      "=== VALORES NULOS ===\n",
      "sentiment    0\n",
      "text         0\n",
      "dtype: int64\n"
     ]
    }
   ],
   "source": [
    "# Información básica del dataset\n",
    "print(\"=== INFORMACIÓN BÁSICA ===\")\n",
    "print(f\"Forma del dataset: {df.shape}\")\n",
    "print(f\"Columnas: {list(df.columns)}\")\n",
    "print(\"\\n=== PRIMERAS FILAS ===\")\n",
    "display(df.head(10))\n",
    "\n",
    "print(\"\\n=== INFORMACIÓN DETALLADA ===\")\n",
    "print(df.info())\n",
    "\n",
    "print(\"\\n=== VALORES NULOS ===\")\n",
    "print(df.isnull().sum())"
   ]
  },
  {
   "cell_type": "code",
   "execution_count": null,
   "metadata": {},
   "outputs": [
    {
     "name": "stdout",
     "output_type": "stream",
     "text": [
      "=== DISTRIBUCIÓN DE SENTIMIENTOS ===\n",
      "sentiment\n",
      "0    400\n",
      "2    200\n",
      "4    400\n",
      "Name: count, dtype: int64\n",
      "\n",
      "=== DISTRIBUCIÓN CON ETIQUETAS ===\n",
      "sentiment_label\n",
      "Negativo    400\n",
      "Positivo    400\n",
      "Neutral     200\n",
      "Name: count, dtype: int64\n",
      "\n",
      "=== PORCENTAJES ===\n",
      "sentiment_label\n",
      "Negativo    40.0\n",
      "Positivo    40.0\n",
      "Neutral     20.0\n",
      "Name: proportion, dtype: float64\n"
     ]
    }
   ],
   "source": [
    "# Análisis de sentimientos\n",
    "print(\"=== DISTRIBUCIÓN DE SENTIMIENTOS ===\")\n",
    "sentiment_counts = df['sentiment'].value_counts().sort_index()\n",
    "print(sentiment_counts)\n",
    "\n",
    "# Mapear sentimientos a etiquetas\n",
    "sentiment_map = {0: 'Negativo', 2: 'Neutral', 4: 'Positivo'}\n",
    "df['sentiment_label'] = df['sentiment'].map(sentiment_map)\n",
    "\n",
    "print(\"\\n=== DISTRIBUCIÓN CON ETIQUETAS ===\")\n",
    "label_counts = df['sentiment_label'].value_counts()\n",
    "print(label_counts)\n",
    "\n",
    "# Porcentajes\n",
    "print(\"\\n=== PORCENTAJES ===\")\n",
    "percentages = df['sentiment_label'].value_counts(normalize=True) * 100\n",
    "print(percentages.round(2))"
   ]
  },
  {
   "cell_type": "markdown",
   "metadata": {},
   "source": [
    "## 3. Visualizaciones"
   ]
  },
  {
   "cell_type": "code",
   "execution_count": null,
   "metadata": {},
   "outputs": [
    {
     "data": {
      "image/png": "[encoded data removed]",
      "text/plain": [
       "<Figure size 1500x1000 with 4 Axes>"
      ]
     },
     "metadata": {},
     "output_type": "display_data"
    }
   ],
   "source": [
    "# Crear visualizaciones\n",
    "fig, axes = plt.subplots(2, 2, figsize=(15, 10))\n",
    "\n",
    "# 1. Distribución de sentimientos (barras)\n",
    "sentiment_counts = df['sentiment_label'].value_counts()\n",
    "axes[0, 0].bar(sentiment_counts.index, sentiment_counts.values, \n",
    "               color=['#ff6b6b', '#4ecdc4', '#45b7d1'])\n",
    "axes[0, 0].set_title('Distribución de Sentimientos', fontsize=14, fontweight='bold')\n",
    "axes[0, 0].set_xlabel('Sentimiento')\n",
    "axes[0, 0].set_ylabel('Cantidad')\n",
    "for i, v in enumerate(sentiment_counts.values):\n",
    "    axes[0, 0].text(i, v + max(sentiment_counts.values)*0.01, str(v), \n",
    "                   ha='center', fontweight='bold')\n",
    "\n",
    "# 2. Distribución de sentimientos (pie)\n",
    "colors = ['#ff6b6b', '#4ecdc4', '#45b7d1']\n",
    "axes[0, 1].pie(sentiment_counts.values, labels=sentiment_counts.index, \n",
    "               autopct='%1.1f%%', colors=colors, startangle=90)\n",
    "axes[0, 1].set_title('Distribución de Sentimientos (%)', fontsize=14, fontweight='bold')\n",
    "\n",
    "# 3. Longitud de textos\n",
    "df['text_length'] = df['text'].str.len()\n",
    "axes[1, 0].hist(df['text_length'], bins=50, alpha=0.7, color='skyblue', edgecolor='black')\n",
    "axes[1, 0].set_title('Distribución de Longitud de Textos', fontsize=14, fontweight='bold')\n",
    "axes[1, 0].set_xlabel('Longitud (caracteres)')\n",
    "axes[1, 0].set_ylabel('Frecuencia')\n",
    "\n",
    "# 4. Longitud por sentimiento\n",
    "sns.boxplot(data=df, x='sentiment_label', y='text_length', ax=axes[1, 1])\n",
    "axes[1, 1].set_title('Longitud de Texto por Sentimiento', fontsize=14, fontweight='bold')\n",
    "axes[1, 1].set_xlabel('Sentimiento')\n",
    "axes[1, 1].set_ylabel('Longitud (caracteres)')\n",
    "\n",
    "plt.tight_layout()\n",
    "plt.show()"
   ]
  },
  {
   "cell_type": "markdown",
   "metadata": {},
   "source": [
    "## 4. Análisis de Texto"
   ]
  },
  {
   "cell_type": "code",
   "execution_count": null,
   "metadata": {},
   "outputs": [
    {
     "name": "stdout",
     "output_type": "stream",
     "text": [
      "=== ESTADÍSTICAS DE TEXTO ===\n",
      "Longitud promedio: 34.50 caracteres\n",
      "Longitud mediana: 34.50 caracteres\n",
      "Longitud mínima: 27 caracteres\n",
      "Longitud máxima: 43 caracteres\n",
      "\n",
      "Palabras promedio: 5.70\n",
      "Palabras mediana: 5.50\n",
      "\n",
      "=== ESTADÍSTICAS POR SENTIMIENTO ===\n",
      "                text_length              word_count             \n",
      "                       mean median   std       mean median   std\n",
      "sentiment_label                                                 \n",
      "Negativo              33.25   33.0  4.66        5.5    5.5  1.12\n",
      "Neutral               29.50   29.5  1.50        5.5    5.5  0.50\n",
      "Positivo              38.25   37.5  2.95        6.0    6.0  1.58\n"
     ]
    }
   ],
   "source": [
    "# Estadísticas de texto\n",
    "print(\"=== ESTADÍSTICAS DE TEXTO ===\")\n",
    "print(f\"Longitud promedio: {df['text_length'].mean():.2f} caracteres\")\n",
    "print(f\"Longitud mediana: {df['text_length'].median():.2f} caracteres\")\n",
    "print(f\"Longitud mínima: {df['text_length'].min()} caracteres\")\n",
    "print(f\"Longitud máxima: {df['text_length'].max()} caracteres\")\n",
    "\n",
    "# Número de palabras\n",
    "df['word_count'] = df['text'].str.split().str.len()\n",
    "print(f\"\\nPalabras promedio: {df['word_count'].mean():.2f}\")\n",
    "print(f\"Palabras mediana: {df['word_count'].median():.2f}\")\n",
    "\n",
    "# Estadísticas por sentimiento\n",
    "print(\"\\n=== ESTADÍSTICAS POR SENTIMIENTO ===\")\n",
    "stats_by_sentiment = df.groupby('sentiment_label').agg({\n",
    "    'text_length': ['mean', 'median', 'std'],\n",
    "    'word_count': ['mean', 'median', 'std']\n",
    "}).round(2)\n",
    "\n",
    "print(stats_by_sentiment)"
   ]
  },
  {
   "cell_type": "code",
   "execution_count": null,
   "metadata": {},
   "outputs": [
    {
     "name": "stdout",
     "output_type": "stream",
     "text": [
      "=== EJEMPLOS DE TEXTOS ===\n",
      "\n",
      "🔸 NEGATIVO:\n",
      "   1. I hate this movie, it was terrible\n",
      "   2. Worst experience ever, very disappointed\n",
      "   3. This is bad, would not recommend\n",
      "\n",
      "🔸 NEUTRAL:\n",
      "   1. It was okay, nothing special\n",
      "   2. Average movie, not bad not good\n",
      "   3. It was okay, nothing special\n",
      "\n",
      "🔸 POSITIVO:\n",
      "   1. Amazing film! Loved every minute of it\n",
      "   2. Fantastic! Best movie I have seen this year\n",
      "   3. Excellent quality, highly recommend\n"
     ]
    }
   ],
   "source": [
    "# Ejemplos de cada sentimiento\n",
    "print(\"=== EJEMPLOS DE TEXTOS ===\")\n",
    "for sentiment in ['Negativo', 'Neutral', 'Positivo']:\n",
    "    if sentiment in df['sentiment_label'].values:\n",
    "        print(f\"\\n🔸 {sentiment.upper()}:\")\n",
    "        examples = df[df['sentiment_label'] == sentiment]['text'].head(3)\n",
    "        for i, text in enumerate(examples, 1):\n",
    "            print(f\"   {i}. {text[:100]}...\" if len(text) > 100 else f\"   {i}. {text}\")"
   ]
  },
  {
   "cell_type": "markdown",
   "metadata": {},
   "source": [
    "## 5. Detección de Problemas"
   ]
  },
  {
   "cell_type": "code",
   "execution_count": null,
   "metadata": {},
   "outputs": [
    {
     "name": "stdout",
     "output_type": "stream",
     "text": [
      "=== DETECCIÓN DE PROBLEMAS ===\n",
      "Textos duplicados: 990\n",
      "Textos muy cortos (<5 caracteres): 0\n",
      "Textos muy largos (>500 caracteres): 0\n",
      "Textos vacíos: 0\n",
      "\n",
      "Balance de clases:\n",
      "  Negativo: 40.0%\n",
      "  Positivo: 40.0%\n",
      "  Neutral: 20.0%\n",
      "✅ Dataset relativamente balanceado\n"
     ]
    }
   ],
   "source": [
    "# Buscar problemas comunes\n",
    "print(\"=== DETECCIÓN DE PROBLEMAS ===\")\n",
    "\n",
    "# Textos duplicados\n",
    "duplicates = df['text'].duplicated().sum()\n",
    "print(f\"Textos duplicados: {duplicates}\")\n",
    "\n",
    "# Textos muy cortos\n",
    "very_short = (df['text_length'] < 5).sum()\n",
    "print(f\"Textos muy cortos (<5 caracteres): {very_short}\")\n",
    "\n",
    "# Textos muy largos\n",
    "very_long = (df['text_length'] > 500).sum()\n",
    "print(f\"Textos muy largos (>500 caracteres): {very_long}\")\n",
    "\n",
    "# Textos vacíos\n",
    "empty_texts = df['text'].isna().sum()\n",
    "print(f\"Textos vacíos: {empty_texts}\")\n",
    "\n",
    "# Balance de clases\n",
    "class_balance = df['sentiment_label'].value_counts(normalize=True) * 100\n",
    "print(f\"\\nBalance de clases:\")\n",
    "for label, percentage in class_balance.items():\n",
    "    print(f\"  {label}: {percentage:.1f}%\")\n",
    "\n",
    "# Verificar desbalance\n",
    "max_class = class_balance.max()\n",
    "min_class = class_balance.min()\n",
    "if max_class / min_class > 2:\n",
    "    print(f\"⚠️  Dataset desbalanceado: {max_class/min_class:.1f}x diferencia\")\n",
    "else:\n",
    "    print(\"✅ Dataset relativamente balanceado\")"
   ]
  },
  {
   "cell_type": "markdown",
   "metadata": {},
   "source": [
    "## 6. Guardado de Datos Procesados"
   ]
  },
  {
   "cell_type": "code",
   "execution_count": null,
   "metadata": {},
   "outputs": [
    {
     "name": "stdout",
     "output_type": "stream",
     "text": [
      "✅ Dataset procesado guardado: 1000 filas, 5 columnas\n",
      "\n",
      "=== RESUMEN FINAL ===\n",
      "Total de textos: 1,000\n",
      "Sentimientos únicos: 3\n",
      "Longitud promedio: 34.5 caracteres\n",
      "Dataset listo para análisis NLP ✅\n"
     ]
    }
   ],
   "source": [
    "# Guardar dataset procesado\n",
    "import os\n",
    "os.makedirs('../data', exist_ok=True)\n",
    "\n",
    "# Seleccionar columnas relevantes\n",
    "df_clean = df[['text', 'sentiment', 'sentiment_label', 'text_length', 'word_count']].copy()\n",
    "\n",
    "# Guardar\n",
    "df_clean.to_csv('../data/dataset_procesado.csv', index=False)\n",
    "print(f\"✅ Dataset procesado guardado: {df_clean.shape[0]} filas, {df_clean.shape[1]} columnas\")\n",
    "\n",
    "# Resumen final\n",
    "print(\"\\n=== RESUMEN FINAL ===\")\n",
    "print(f\"Total de textos: {len(df_clean):,}\")\n",
    "print(f\"Sentimientos únicos: {df_clean['sentiment_label'].nunique()}\")\n",
    "print(f\"Longitud promedio: {df_clean['text_length'].mean():.1f} caracteres\")\n",
    "print(f\"Dataset listo para análisis NLP ✅\")"
   ]
  },
  {
   "cell_type": "code",
   "execution_count": null,
   "metadata": {},
   "outputs": [],
   "source": []
  }
 ],
 "metadata": {
  "kernelspec": {
   "display_name": "Python 3 (ipykernel)",
   "language": "python",
   "name": "python3"
  },
  "language_info": {
   "codemirror_mode": {
    "name": "ipython",
    "version": 3
   },
   "file_extension": ".py",
   "mimetype": "text/x-python",
   "name": "python",
   "nbconvert_exporter": "python",
   "pygments_lexer": "ipython3",
   "version": "3.13.3"
  }
 },
 "nbformat": 4,
 "nbformat_minor": 4
}
